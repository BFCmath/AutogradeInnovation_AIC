{
 "cells": [
  {
   "cell_type": "code",
   "execution_count": 1,
   "metadata": {},
   "outputs": [
    {
     "name": "stdout",
     "output_type": "stream",
     "text": [
      "d:\\autograde\n"
     ]
    }
   ],
   "source": [
    "%cd .."
   ]
  },
  {
   "cell_type": "markdown",
   "metadata": {
    "vscode": {
     "languageId": "plaintext"
    }
   },
   "source": [
    "# Label processing"
   ]
  },
  {
   "cell_type": "code",
   "execution_count": 2,
   "metadata": {},
   "outputs": [
    {
     "name": "stdout",
     "output_type": "stream",
     "text": [
      "File loaded\n"
     ]
    }
   ],
   "source": [
    "import os \n",
    "import pandas as pd \n",
    "import numpy as np\n",
    "# check if there is \"data/created/training.csv\"\n",
    "if os.path.exists(\"data/created/training.csv\"):\n",
    "    df = pd.read_csv(\"data/created/training.csv\")\n",
    "    print(\"File loaded\")\n",
    "else: print(\"No csv file\")"
   ]
  },
  {
   "cell_type": "markdown",
   "metadata": {
    "vscode": {
     "languageId": "plaintext"
    }
   },
   "source": [
    "## Delete duplicates"
   ]
  },
  {
   "cell_type": "code",
   "execution_count": 3,
   "metadata": {},
   "outputs": [],
   "source": [
    "import pandas as pd\n",
    "import os\n",
    "from tqdm import tqdm\n",
    "def read_label_file(file, directory):\n",
    "    \"\"\"\n",
    "    Reads a YOLO format label file and returns its contents as a list of strings.\n",
    "    \"\"\"\n",
    "    with open(os.path.join(directory, file), 'r') as f:\n",
    "        data = f.readlines()\n",
    "    return data\n",
    "\n",
    "def write_label_file(file, directory, data):\n",
    "    \"\"\"\n",
    "    Writes data to a YOLO format label file.\n",
    "    \"\"\"\n",
    "    with open(os.path.join(directory, file), 'w') as f:\n",
    "        f.writelines(data)\n",
    "\n",
    "def are_lines_similar(line1, line2, threshold=0.01):\n",
    "    \"\"\"\n",
    "    Compares two YOLO format lines to check if they are similar based on a threshold.\n",
    "    \"\"\"\n",
    "    values1 = list(map(float, line1.split()))\n",
    "    values2 = list(map(float, line2.split()))\n",
    "    \n",
    "    # Ensure they are of the same length\n",
    "    if len(values1) != len(values2):\n",
    "        return False\n",
    "\n",
    "    # Compare each value with a threshold\n",
    "    for v1, v2 in zip(values1[1:], values2[1:]):\n",
    "        if abs(v1 - v2) > threshold:\n",
    "            return False\n",
    "    return True\n",
    "\n",
    "def remove_duplicates(data, threshold=0.01):\n",
    "    \"\"\"\n",
    "    Removes duplicates from YOLO format data based on a similarity threshold.\n",
    "    \"\"\"\n",
    "    unique_lines = []\n",
    "    for line in data:\n",
    "        if not any(are_lines_similar(line, unique_line, threshold) for unique_line in unique_lines):\n",
    "            unique_lines.append(line)\n",
    "    return unique_lines\n",
    "\n",
    "def process_dataframe(df, label_dir, output_dir,threshold=0.01):\n",
    "    \"\"\"\n",
    "    Processes the dataframe to check for duplicates in YOLO files and updates the files.\n",
    "\n",
    "    Args:\n",
    "        df (pd.DataFrame): The dataframe containing the label file information.\n",
    "        label_dir (str): The directory where label files are located.\n",
    "        threshold (float): The similarity threshold for removing duplicates.\n",
    "\n",
    "    Returns:\n",
    "        None\n",
    "    \"\"\"\n",
    "    for idx, row in tqdm(df.iterrows()):\n",
    "        label_file = row['label_name']\n",
    "        \n",
    "        # Read the label file\n",
    "        data = read_label_file(label_file, label_dir)\n",
    "        \n",
    "        # Remove duplicates\n",
    "        cleaned_data = remove_duplicates(data, threshold)\n",
    "        \n",
    "        # Write back the cleaned data\n",
    "        write_label_file(label_file, output_dir, cleaned_data)"
   ]
  },
  {
   "cell_type": "code",
   "execution_count": 4,
   "metadata": {},
   "outputs": [],
   "source": [
    "output_dir = \"data/created/processed_label/\""
   ]
  },
  {
   "cell_type": "code",
   "execution_count": 5,
   "metadata": {},
   "outputs": [],
   "source": [
    "def process(df,start,end):\n",
    "    df_start_end = df.iloc[start:end]\n",
    "    if not os.path.exists(output_dir):\n",
    "        os.makedirs(output_dir)\n",
    "        print(\"Directory created\")\n",
    "\n",
    "    # check if there is the first txt file of df in output_dir\n",
    "    if os.path.exists(output_dir + df_start_end['label_name'].iloc[0]):\n",
    "        print(\"File already processed\")\n",
    "    else:\n",
    "        label_dir = \"data/Trainning_SET/Labels/\"\n",
    "        process_dataframe(df_start_end, label_dir,output_dir, threshold=0.01)"
   ]
  },
  {
   "cell_type": "markdown",
   "metadata": {},
   "source": [
    "+ 2340->2599\n",
    "+ 2600->2859\n",
    "+ 2860->3119\n",
    "+ 4420->4679"
   ]
  },
  {
   "cell_type": "code",
   "execution_count": 6,
   "metadata": {},
   "outputs": [
    {
     "name": "stdout",
     "output_type": "stream",
     "text": [
      "File already processed\n"
     ]
    }
   ],
   "source": [
    "process(df,2340,2600)"
   ]
  },
  {
   "cell_type": "code",
   "execution_count": 7,
   "metadata": {},
   "outputs": [
    {
     "name": "stdout",
     "output_type": "stream",
     "text": [
      "File already processed\n"
     ]
    }
   ],
   "source": [
    "process(df,2600,2860)"
   ]
  },
  {
   "cell_type": "code",
   "execution_count": 8,
   "metadata": {},
   "outputs": [
    {
     "name": "stdout",
     "output_type": "stream",
     "text": [
      "File already processed\n"
     ]
    }
   ],
   "source": [
    "process(df,2860,3120)"
   ]
  },
  {
   "cell_type": "code",
   "execution_count": 9,
   "metadata": {},
   "outputs": [
    {
     "name": "stdout",
     "output_type": "stream",
     "text": [
      "File already processed\n"
     ]
    }
   ],
   "source": [
    "process(df,4420,4680)"
   ]
  },
  {
   "cell_type": "code",
   "execution_count": 10,
   "metadata": {},
   "outputs": [
    {
     "name": "stdout",
     "output_type": "stream",
     "text": [
      "File already processed\n"
     ]
    }
   ],
   "source": [
    "process(df,3380,3640)"
   ]
  },
  {
   "cell_type": "code",
   "execution_count": 11,
   "metadata": {},
   "outputs": [
    {
     "name": "stdout",
     "output_type": "stream",
     "text": [
      "File already processed\n"
     ]
    }
   ],
   "source": [
    "process(df,3640,3900)"
   ]
  },
  {
   "cell_type": "code",
   "execution_count": 12,
   "metadata": {},
   "outputs": [
    {
     "name": "stdout",
     "output_type": "stream",
     "text": [
      "File already processed\n"
     ]
    }
   ],
   "source": [
    "process(df,3900,4160)"
   ]
  },
  {
   "cell_type": "code",
   "execution_count": 13,
   "metadata": {},
   "outputs": [
    {
     "name": "stdout",
     "output_type": "stream",
     "text": [
      "File already processed\n"
     ]
    }
   ],
   "source": [
    "process(df,2080,2340)"
   ]
  },
  {
   "cell_type": "code",
   "execution_count": 14,
   "metadata": {},
   "outputs": [
    {
     "name": "stdout",
     "output_type": "stream",
     "text": [
      "File already processed\n"
     ]
    }
   ],
   "source": [
    "process(df,3120,3380)"
   ]
  },
  {
   "cell_type": "code",
   "execution_count": 15,
   "metadata": {},
   "outputs": [
    {
     "name": "stdout",
     "output_type": "stream",
     "text": [
      "File already processed\n"
     ]
    }
   ],
   "source": [
    "process(df,4160,4420)"
   ]
  },
  {
   "cell_type": "markdown",
   "metadata": {},
   "source": [
    "## Delete redundants"
   ]
  },
  {
   "cell_type": "code",
   "execution_count": null,
   "metadata": {},
   "outputs": [],
   "source": []
  }
 ],
 "metadata": {
  "kernelspec": {
   "display_name": "base",
   "language": "python",
   "name": "python3"
  },
  "language_info": {
   "codemirror_mode": {
    "name": "ipython",
    "version": 3
   },
   "file_extension": ".py",
   "mimetype": "text/x-python",
   "name": "python",
   "nbconvert_exporter": "python",
   "pygments_lexer": "ipython3",
   "version": "3.11.9"
  }
 },
 "nbformat": 4,
 "nbformat_minor": 2
}
