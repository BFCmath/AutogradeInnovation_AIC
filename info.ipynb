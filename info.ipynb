{
 "cells": [
  {
   "cell_type": "markdown",
   "metadata": {
    "vscode": {
     "languageId": "plaintext"
    }
   },
   "source": [
    "# Thông tin chi tiết cuộc thi\n",
    "\n",
    "Cuộc thi “AI Challenge 2: AutoGrade Innovation” là cuộc thi công nghệ và trí tuệ nhân tạo, do CLB Toán học ứng dụng và Tin học (AMIC) tổ chức nhằm mục đích thúc đẩy sáng tạo và phát triển ứng dụng của Trí tuệ nhân tạo (AI) và mô hình thị giác máy tính trong việc giải quyết các vấn đề thực tế và cụ thể.\n",
    "\n",
    "Đến với cuộc thi lần này, AMIC cung cấp cho các bạn bài toán \"Sử dụng CV để chấm bài thi trắc nghiệm THPT 2025\".\n",
    "\n",
    "\n",
    "**Bối cảnh bài toán**: Trong tương lai, việc sử dụng trí tuệ nhân tạo để giải quyết các vấn đề thực tế trở nên ngày càng phổ biến. Trong lĩnh vực giáo dục, việc áp dụng trí tuệ nhân tạo để hỗ trợ chấm thi cho giáo viên là một công việc hết sức tiềm năng để giảm thiểu thời gian và chi phí thực hiện.\n",
    "\n",
    "**Nhiệm vụ**: Bằng cách sử dụng (Modeling CV, Open Source , Tooling,...) các đội thi hãy xây dựng một mô hình chấm điểm cho bài thi trắc nghiệm được BTC cung cấp sẵn.\n",
    "\n",
    "Để hiểu rõ hơn về file data và tải tập train và test, hãy truy cập vào Participate / Get Data.\n",
    "\n",
    "**Yêu cầu khác**: Các đội thi thao tác fine-tuning và modeling trên nền tảng Google Colab, Kaggle hoặc Local tùy thuộc theo hạ tầng cho phép của các đội, nếu sử dụng pretrained Model **không được vượt quá 100M tham số**."
   ]
  },
  {
   "cell_type": "markdown",
   "metadata": {
    "vscode": {
     "languageId": "plaintext"
    }
   },
   "source": [
    "# Evaluation Criteria"
   ]
  },
  {
   "cell_type": "markdown",
   "metadata": {
    "vscode": {
     "languageId": "plaintext"
    }
   },
   "source": [
    "Thông tin đánh giá chi tiết:\n",
    "Kết quả đánh giá sẽ được tính dựa trên tổng số bài thi chấm đúng, số câu chấm đúng (bao gồm cả thông tin và phần bài làm chính thức), và số nhãn chấm đúng trên tổng số bài thi mà Ban Tổ Chức (BTC) cung cấp. Các đội thi cần đảm bảo việc ghi nhận các kết quả một cách chính xác và đầy đủ để có thể đạt điểm tối đa.\n",
    "\n",
    "Cách thức nộp bài: Các đội thi cần nộp kết quả chấm bài dưới dạng file văn bản 'result.txt'. Tập tin này sẽ được nén lại thành file .zip. Mỗi bài thi cần cung cấp các thông tin sau:"
   ]
  },
  {
   "cell_type": "markdown",
   "metadata": {
    "vscode": {
     "languageId": "plaintext"
    }
   },
   "source": [
    "> {tên bài thi} SBD{giá trị tô} {x,y,width,height} MDT{giá trị tô} {x,y,width,height} {tên phần}.{tên câu}.{tên ý (nếu có)} {x,y,width,height}...."
   ]
  },
  {
   "cell_type": "markdown",
   "metadata": {
    "vscode": {
     "languageId": "plaintext"
    }
   },
   "source": [
    "Trong đó:\n",
    "\n",
    "+ {tên bài thi}: Là tên file ảnh của bài thi (ví dụ: 001.jpg)\n",
    "+ {tên phần}.{tên câu}.{tên ý (nếu có)}: Định dạng để chỉ rõ phần, câu và ý trong bài thi (ví dụ: phần I câu 1: 1.1 hoặc phần II câu 1 ý a: 2.1.a)\n",
    "+ SBD{giá trị tô}: là giá trị số báo danh ở ô thứ {giá trị tô}. Ví dụ: ô thứ nhất của mục SBD tính từ trái qua phải thì sẽ là SBD1\n",
    "+ MDT{giá trị tô}: là giá trị mã đề thi ở ô thứ {giá trị tô}. Ví dụ: ô thứ nhất của mục Mã đề thi tính từ trái qua phải thì sẽ là MDT1\n",
    "+ {x,y,width,height}: Tọa độ của điểm mà mô hình nhận diện, bao gồm 4 giá trị: tọa độ của ô mà thí sinh tô tương ứng với phần đứng đằng trước (x, y, chiều rộng (width), và chiều cao (height) theo định dạng của YOLOv8). Các giá trị này được phân cách nhau bằng dấu 'phẩy' và dấu thập phân là dấu ‘.’."
   ]
  }
 ],
 "metadata": {
  "language_info": {
   "name": "python"
  }
 },
 "nbformat": 4,
 "nbformat_minor": 2
}
