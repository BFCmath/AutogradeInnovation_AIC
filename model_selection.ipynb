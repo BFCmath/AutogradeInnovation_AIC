{
 "cells": [
  {
   "cell_type": "markdown",
   "metadata": {
    "vscode": {
     "languageId": "plaintext"
    }
   },
   "source": [
    "# YOLO"
   ]
  },
  {
   "cell_type": "markdown",
   "metadata": {},
   "source": [
    "## First attempt"
   ]
  },
  {
   "cell_type": "markdown",
   "metadata": {
    "vscode": {
     "languageId": "plaintext"
    }
   },
   "source": [
    "model: yolov8n"
   ]
  },
  {
   "cell_type": "markdown",
   "metadata": {
    "vscode": {
     "languageId": "plaintext"
    }
   },
   "source": [
    "data: std_num_bbox_labels"
   ]
  },
  {
   "cell_type": "code",
   "execution_count": null,
   "metadata": {},
   "outputs": [],
   "source": [
    "## config\n",
    "class CFG:\n",
    "    DEBUG = False\n",
    "    FRACTION = 0.05 if DEBUG else 1.0\n",
    "    SEED = 88\n",
    "\n",
    "    # training\n",
    "    EPOCHS = 3 if DEBUG else 50 # 100\n",
    "    BATCH_SIZE = 32\n",
    "    \n",
    "    BASE_MODEL = 'yolov8n' # yolov8n, yolov8s, yolov8m, yolov8l, yolov8x\n",
    "    BASE_MODEL_WEIGHTS = f'{BASE_MODEL}.pt'\n",
    "    EXP_NAME = f'test_{EPOCHS}_epochs'\n",
    "    \n",
    "    OPTIMIZER = 'auto' # SGD, Adam, Adamax, AdamW, NAdam, RAdam, RMSProp, auto\n",
    "    LR = 1e-3\n",
    "    LR_FACTOR = 0.01\n",
    "    WEIGHT_DECAY = 5e-4\n",
    "    DROPOUT = 0.0\n",
    "    PATIENCE = 20\n",
    "    PROFILE = False\n",
    "    # paths\n",
    "    CUSTOM_DATASET_DIR = '/kaggle/working/'\n",
    "    OUTPUT_DIR = './'"
   ]
  },
  {
   "cell_type": "markdown",
   "metadata": {},
   "source": [
    "stop: 25th epoch"
   ]
  },
  {
   "cell_type": "code",
   "execution_count": null,
   "metadata": {},
   "outputs": [],
   "source": [
    "# Class     Images  Instances      Box(P          R      mAP50  mAP50-95): 100%|██████████| 1040/1040 [02:49<00:00,  6.12it/s]\n",
    "# all      16640     594880      0.823      0.834      0.874      0.833\n",
    "#     0      14125      71967      0.886      0.898      0.967      0.914\n",
    "#     1      16633     444201      0.918          1      0.981      0.954\n",
    "#     ?       8223      78712      0.665      0.604      0.674      0.631\n",
    "# Speed: 0.1ms preprocess, 1.4ms inference, 0.0ms loss, 0.8ms postprocess per image\n",
    "# Results saved to runs/detect/val2"
   ]
  },
  {
   "cell_type": "markdown",
   "metadata": {},
   "source": [
    "## Second attempt"
   ]
  },
  {
   "cell_type": "markdown",
   "metadata": {},
   "source": [
    "model: yolov8n"
   ]
  },
  {
   "cell_type": "markdown",
   "metadata": {},
   "source": [
    "data: std_num_bbox_labels"
   ]
  },
  {
   "cell_type": "code",
   "execution_count": null,
   "metadata": {},
   "outputs": [],
   "source": [
    "class CFG:\n",
    "    DEBUG = False\n",
    "    FRACTION = 0.05 if DEBUG else 1.0\n",
    "    SEED = 88\n",
    "\n",
    "    # training\n",
    "    EPOCHS = 3 if DEBUG else 25 # 100\n",
    "    BATCH_SIZE = 32\n",
    "    \n",
    "    BASE_MODEL = 'yolov8n' # yolov8n, yolov8s, yolov8m, yolov8l, yolov8x\n",
    "    BASE_MODEL_WEIGHTS = f'{BASE_MODEL}.pt'\n",
    "    EXP_NAME = f'test_{EPOCHS}_epochs'\n",
    "    \n",
    "    OPTIMIZER = 'auto' # SGD, Adam, Adamax, AdamW, NAdam, RAdam, RMSProp, auto\n",
    "    LR = 1e-3\n",
    "    LR_FACTOR = 0.01\n",
    "    WEIGHT_DECAY = 5e-4\n",
    "    DROPOUT = 0.0\n",
    "    PATIENCE = 5\n",
    "    PROFILE = False\n",
    "    # paths\n",
    "    CUSTOM_DATASET_DIR = '/kaggle/working/'\n",
    "    OUTPUT_DIR = './'"
   ]
  },
  {
   "cell_type": "markdown",
   "metadata": {},
   "source": [
    "You can check the result [here](model_results/attempt2.csv)"
   ]
  }
 ],
 "metadata": {
  "kernelspec": {
   "display_name": "base",
   "language": "python",
   "name": "python3"
  },
  "language_info": {
   "name": "python",
   "version": "3.11.9"
  }
 },
 "nbformat": 4,
 "nbformat_minor": 2
}
